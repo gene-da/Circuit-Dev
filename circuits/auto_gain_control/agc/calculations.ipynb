{
 "cells": [
  {
   "cell_type": "code",
   "execution_count": null,
   "metadata": {},
   "outputs": [],
   "source": [
    "import sys, os\n",
    "from pathlib import Path\n",
    "import numpy as np\n",
    "\n",
    "notebook_dir = Path(os.getcwd())\n",
    "project_root = notebook_dir.parents[2]  # adjust depth as needed\n",
    "sys.path.append(str(project_root))\n",
    "\n",
    "from calcs.inductance import Inductance"
   ]
  },
  {
   "cell_type": "markdown",
   "metadata": {},
   "source": [
    "# Antenna Input Impedance\n",
    "\n",
    "RF Inputs Carrier Frequency:\n",
    " - $f = 1 \\text{MHz}$\n",
    "\n",
    "Inductive Reactance:\n",
    "\n",
    " - $X_{L} = 2 \\pi f L = wL$\n",
    " \n",
    "Solving For Inductabce:\n",
    "\n",
    " - $L = \\frac{ x }{ 2 \\pi f }$\n",
    "\n",
    "RL Series Impedance:\n",
    "\n",
    " - $ Z = \\sqrt{R^{2} + (wL)^2}$\n",
    "\n",
    "Solving for Inductance:\n",
    "\n",
    "$ L = -\\frac{ \\sqrt{ Z^{2} - R^{2} } }{ w } $\n",
    "\n",
    "$ L = +\\frac{ \\sqrt{ Z^{2} - R^{2} } }{ w } $\n"
   ]
  },
  {
   "cell_type": "code",
   "execution_count": null,
   "metadata": {},
   "outputs": [
    {
     "name": "stdout",
     "output_type": "stream",
     "text": [
      "Carrier Frequency\t|\t1MHz\n",
      "Target Reactance\t|\t5Ω\n",
      "Target Inductance\t|\t795.77nH\n"
     ]
    }
   ],
   "source": [
    "carrier_f = from_metric('1M')\n",
    "target_reactance = from_metric('5')\n",
    "anntena_resistance = from_metric('50')\n",
    "\n",
    "target_inductance =  target_reactance / (2 * np.pi * carrier_f)\n",
    "\n",
    "print(f'Carrier Frequency\\t|\\t{to_metric(carrier_f, 0)}Hz')\n",
    "print(f'Target Reactance\\t|\\t{to_metric(target_reactance, 0)}Ω')\n",
    "print(f'Target Inductance\\t|\\t{to_metric(target_inductance)}H')\n",
    "\n",
    "target_inductance =  \n",
    "\n",
    "print(f'Carrier Frequency\\t|\\t{to_metric(carrier_f, 0)}Hz')\n",
    "print(f'Target Reactance\\t|\\t{to_metric(target_reactance, 0)}Ω')\n",
    "print(f'Target Inductance\\t|\\t{to_metric(target_inductance)}H')\n"
   ]
  },
  {
   "cell_type": "markdown",
   "metadata": {},
   "source": []
  }
 ],
 "metadata": {
  "kernelspec": {
   "display_name": "Python 3",
   "language": "python",
   "name": "python3"
  },
  "language_info": {
   "codemirror_mode": {
    "name": "ipython",
    "version": 3
   },
   "file_extension": ".py",
   "mimetype": "text/x-python",
   "name": "python",
   "nbconvert_exporter": "python",
   "pygments_lexer": "ipython3",
   "version": "3.12.3"
  }
 },
 "nbformat": 4,
 "nbformat_minor": 2
}
